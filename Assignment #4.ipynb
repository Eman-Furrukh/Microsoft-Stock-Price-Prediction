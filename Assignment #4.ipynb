{
 "cells": [
  {
   "cell_type": "markdown",
   "id": "17f68a07",
   "metadata": {},
   "source": [
    "# Fundamentals of Software Engineering"
   ]
  },
  {
   "cell_type": "markdown",
   "id": "3a86ef7e",
   "metadata": {},
   "source": [
    "# Assignment #4"
   ]
  },
  {
   "cell_type": "markdown",
   "id": "1b0c68fb",
   "metadata": {},
   "source": [
    "# Eman Furrukh 21i-1726 BSDS-U "
   ]
  },
  {
   "cell_type": "code",
   "execution_count": 1,
   "id": "d4573df8",
   "metadata": {},
   "outputs": [],
   "source": [
    "#Complete integrated ML model in GUI (complete functional code)\n",
    "import numpy as np\n",
    "import pandas as pd\n",
    "import matplotlib.pyplot as plt\n",
    "from sklearn.preprocessing import MinMaxScaler, MaxAbsScaler\n",
    "from tensorflow.keras.models import Sequential\n",
    "from tensorflow.keras.layers import Dense, LSTM\n",
    "import tkinter as tk"
   ]
  },
  {
   "cell_type": "code",
   "execution_count": 5,
   "id": "81e36a20",
   "metadata": {},
   "outputs": [
    {
     "name": "stdout",
     "output_type": "stream",
     "text": [
      "         Date      Open      High       Low     Close  Adj Close      Volume\n",
      "0  1986-03-13  0.088542  0.101563  0.088542  0.097222   0.062549  1031788800\n",
      "1  1986-03-14  0.097222  0.102431  0.097222  0.100694   0.064783   308160000\n",
      "2  1986-03-17  0.100694  0.103299  0.100694  0.102431   0.065899   133171200\n",
      "3  1986-03-18  0.102431  0.103299  0.098958  0.099826   0.064224    67766400\n",
      "4  1986-03-19  0.099826  0.100694  0.097222  0.098090   0.063107    47894400\n"
     ]
    }
   ],
   "source": [
    "#Load the data\n",
    "df = pd.read_csv(r\"C:\\Users\\DELL\\Downloads\\MSFT (1).csv\")\n",
    "\n",
    "print(df.head())"
   ]
  },
  {
   "cell_type": "code",
   "execution_count": 6,
   "id": "6a7b9a55",
   "metadata": {},
   "outputs": [],
   "source": [
    "if len(df) < 2:\n",
    "    raise ValueError(\"Input data has less than 2 samples\")"
   ]
  },
  {
   "cell_type": "code",
   "execution_count": 7,
   "id": "c241f16d",
   "metadata": {},
   "outputs": [],
   "source": [
    "#Prepare the data\n",
    "data = df.filter(['Close']).values\n",
    "#scaler = MinMaxScaler(feature_range=(0, 1))\n",
    "scaler = MaxAbsScaler()\n",
    "scaled_data = scaler.fit_transform(data)"
   ]
  },
  {
   "cell_type": "code",
   "execution_count": 8,
   "id": "fb7c29cc",
   "metadata": {},
   "outputs": [],
   "source": [
    "#Define the training period\n",
    "training_days = int(len(data) * 0.8)\n",
    "\n",
    "#Create the training dataset\n",
    "train_data = scaled_data[0:training_days, :]"
   ]
  },
  {
   "cell_type": "code",
   "execution_count": 9,
   "id": "2d406809",
   "metadata": {},
   "outputs": [],
   "source": [
    "#Split the data into x_train and y_train datasets\n",
    "x_train = []\n",
    "y_train = []\n",
    "\n",
    "timesteps = 60 # number of timesteps to look back\n",
    "for i in range(timesteps, len(train_data)):\n",
    "    x_train.append(train_data[i - timesteps:i, 0])\n",
    "    y_train.append(train_data[i, 0])\n",
    "\n",
    "#Convert the data to numpy arrays\n",
    "x_train = np.array(x_train)\n",
    "y_train = np.array(y_train)"
   ]
  },
  {
   "cell_type": "code",
   "execution_count": 10,
   "id": "12de6533",
   "metadata": {},
   "outputs": [],
   "source": [
    "#Reshape the data to fit the LSTM model\n",
    "x_train = np.reshape(x_train, (x_train.shape[0], x_train.shape[1], 1))\n",
    "\n",
    "#Build the LSTM model\n",
    "model = Sequential()\n",
    "model.add(LSTM(units=50, return_sequences=True, input_shape=(x_train.shape[1], 1)))\n",
    "model.add(LSTM(units=50, return_sequences=False))\n",
    "model.add(Dense(units=25))\n",
    "model.add(Dense(units=1))"
   ]
  },
  {
   "cell_type": "code",
   "execution_count": 11,
   "id": "55cc0157",
   "metadata": {},
   "outputs": [
    {
     "name": "stdout",
     "output_type": "stream",
     "text": [
      "6760/6760 [==============================] - 143s 21ms/step - loss: 9.4436e-05\n"
     ]
    }
   ],
   "source": [
    "#Compile the model\n",
    "model.compile(optimizer='adam', loss='mean_squared_error')\n",
    "\n",
    "#Train the model\n",
    "model.fit(x_train, y_train, batch_size=1, epochs=1)\n",
    "\n",
    "#Create the test dataset\n",
    "test_data = scaled_data[training_days - timesteps:, :]"
   ]
  },
  {
   "cell_type": "code",
   "execution_count": 12,
   "id": "3bdcc225",
   "metadata": {},
   "outputs": [],
   "source": [
    "#Split the data into x_test and y_test datasets\n",
    "x_test = []\n",
    "y_test = data[training_days:, :]\n",
    "for i in range(timesteps, len(test_data)):\n",
    "    x_test.append(test_data[i - timesteps:i, 0])"
   ]
  },
  {
   "cell_type": "code",
   "execution_count": 13,
   "id": "b65d6abc",
   "metadata": {},
   "outputs": [
    {
     "name": "stdout",
     "output_type": "stream",
     "text": [
      "54/54 [==============================] - 2s 18ms/step\n"
     ]
    }
   ],
   "source": [
    "#Convert the data to numpy arrays\n",
    "x_test = np.array(x_test)\n",
    "\n",
    "#Reshape the data to fit the LSTM model\n",
    "x_test = np.reshape(x_test, (x_test.shape[0], x_test.shape[1], 1))\n",
    "\n",
    "#Get the model's predicted price values\n",
    "predictions = model.predict(x_test)\n",
    "predictions = scaler.inverse_transform(predictions)"
   ]
  },
  {
   "cell_type": "code",
   "execution_count": 14,
   "id": "bf4a792d",
   "metadata": {},
   "outputs": [
    {
     "ename": "IndexError",
     "evalue": "only integers, slices (`:`), ellipsis (`...`), numpy.newaxis (`None`) and integer or boolean arrays are valid indices",
     "output_type": "error",
     "traceback": [
      "\u001b[1;31m---------------------------------------------------------------------------\u001b[0m",
      "\u001b[1;31mIndexError\u001b[0m                                Traceback (most recent call last)",
      "Input \u001b[1;32mIn [14]\u001b[0m, in \u001b[0;36m<cell line: 5>\u001b[1;34m()\u001b[0m\n\u001b[0;32m      2\u001b[0m test_data \u001b[38;5;241m=\u001b[39m data[training_days\u001b[38;5;241m+\u001b[39mtimesteps\u001b[38;5;241m-\u001b[39m\u001b[38;5;241m1\u001b[39m:]\u001b[38;5;241m.\u001b[39mcopy()\n\u001b[0;32m      4\u001b[0m \u001b[38;5;66;03m# Add the predictions to the new dataframe\u001b[39;00m\n\u001b[1;32m----> 5\u001b[0m test_data[\u001b[38;5;124m'\u001b[39m\u001b[38;5;124mPredictions\u001b[39m\u001b[38;5;124m'\u001b[39m] \u001b[38;5;241m=\u001b[39m predictions\n\u001b[0;32m      7\u001b[0m \u001b[38;5;66;03m# Create a new dataframe that will hold the predicted values\u001b[39;00m\n\u001b[0;32m      8\u001b[0m test_data \u001b[38;5;241m=\u001b[39m df[training_days \u001b[38;5;241m+\u001b[39m timesteps:]\u001b[38;5;241m.\u001b[39mcopy()\n",
      "\u001b[1;31mIndexError\u001b[0m: only integers, slices (`:`), ellipsis (`...`), numpy.newaxis (`None`) and integer or boolean arrays are valid indices"
     ]
    }
   ],
   "source": [
    "# Create a new dataframe that will hold the predicted values\n",
    "test_data = data[training_days+timesteps-1:].copy()\n",
    "\n",
    "# Add the predictions to the new dataframe\n",
    "test_data['Predictions'] = predictions\n",
    "\n",
    "# Create a new dataframe that will hold the predicted values\n",
    "test_data = df[training_days + timesteps:].copy()\n",
    "test_data['Predictions'] = predictions\n",
    "\n",
    "# Create a new dataframe that will hold the predicted values\n",
    "test_data = pd.DataFrame(scaler.inverse_transform(test_data), columns=['Close', 'Predictions'])\n",
    "test_data['Date'] = df.index[training_days+timesteps-1:]\n",
    "test_data = test_data.set_index('Date')"
   ]
  },
  {
   "cell_type": "code",
   "execution_count": 15,
   "id": "bf164cec",
   "metadata": {},
   "outputs": [
    {
     "name": "stderr",
     "output_type": "stream",
     "text": [
      "C:\\Users\\DELL\\AppData\\Local\\Temp\\ipykernel_14684\\203338185.py:7: FutureWarning: Using a non-tuple sequence for multidimensional indexing is deprecated; use `arr[tuple(seq)]` instead of `arr[seq]`. In the future this will be interpreted as an array index, `arr[np.array(seq)]`, which will result either in an error or a different result.\n",
      "  plt.plot(test_data[['Close', 'Predictions']])\n"
     ]
    },
    {
     "ename": "IndexError",
     "evalue": "only integers, slices (`:`), ellipsis (`...`), numpy.newaxis (`None`) and integer or boolean arrays are valid indices",
     "output_type": "error",
     "traceback": [
      "\u001b[1;31m---------------------------------------------------------------------------\u001b[0m",
      "\u001b[1;31mIndexError\u001b[0m                                Traceback (most recent call last)",
      "Input \u001b[1;32mIn [15]\u001b[0m, in \u001b[0;36m<cell line: 7>\u001b[1;34m()\u001b[0m\n\u001b[0;32m      5\u001b[0m plt\u001b[38;5;241m.\u001b[39mylabel(\u001b[38;5;124m'\u001b[39m\u001b[38;5;124mClose Price USD ($)\u001b[39m\u001b[38;5;124m'\u001b[39m, fontsize\u001b[38;5;241m=\u001b[39m\u001b[38;5;241m18\u001b[39m)\n\u001b[0;32m      6\u001b[0m plt\u001b[38;5;241m.\u001b[39mplot(df[\u001b[38;5;124m'\u001b[39m\u001b[38;5;124mClose\u001b[39m\u001b[38;5;124m'\u001b[39m])\n\u001b[1;32m----> 7\u001b[0m plt\u001b[38;5;241m.\u001b[39mplot(\u001b[43mtest_data\u001b[49m\u001b[43m[\u001b[49m\u001b[43m[\u001b[49m\u001b[38;5;124;43m'\u001b[39;49m\u001b[38;5;124;43mClose\u001b[39;49m\u001b[38;5;124;43m'\u001b[39;49m\u001b[43m,\u001b[49m\u001b[43m \u001b[49m\u001b[38;5;124;43m'\u001b[39;49m\u001b[38;5;124;43mPredictions\u001b[39;49m\u001b[38;5;124;43m'\u001b[39;49m\u001b[43m]\u001b[49m\u001b[43m]\u001b[49m)\n\u001b[0;32m      8\u001b[0m plt\u001b[38;5;241m.\u001b[39mlegend([\u001b[38;5;124m'\u001b[39m\u001b[38;5;124mTrain\u001b[39m\u001b[38;5;124m'\u001b[39m, \u001b[38;5;124m'\u001b[39m\u001b[38;5;124mTest\u001b[39m\u001b[38;5;124m'\u001b[39m, \u001b[38;5;124m'\u001b[39m\u001b[38;5;124mPredictions\u001b[39m\u001b[38;5;124m'\u001b[39m], loc\u001b[38;5;241m=\u001b[39m\u001b[38;5;124m'\u001b[39m\u001b[38;5;124mlower right\u001b[39m\u001b[38;5;124m'\u001b[39m)\n\u001b[0;32m      9\u001b[0m plt\u001b[38;5;241m.\u001b[39mshow()\n",
      "\u001b[1;31mIndexError\u001b[0m: only integers, slices (`:`), ellipsis (`...`), numpy.newaxis (`None`) and integer or boolean arrays are valid indices"
     ]
    },
    {
     "data": {
      "image/png": "[encoded data removed]",
      "text/plain": [
       "<Figure size 1152x576 with 1 Axes>"
      ]
     },
     "metadata": {
      "needs_background": "light"
     },
     "output_type": "display_data"
    }
   ],
   "source": [
    "# Visualize the results\n",
    "plt.figure(figsize=(16, 8))\n",
    "plt.title('Microsoft Stock Price Prediction')\n",
    "plt.xlabel('Date', fontsize=18)\n",
    "plt.ylabel('Close Price USD ($)', fontsize=18)\n",
    "plt.plot(df['Close'])\n",
    "plt.plot(test_data[['Close', 'Predictions']])\n",
    "plt.legend(['Train', 'Test', 'Predictions'], loc='lower right')\n",
    "plt.show()"
   ]
  },
  {
   "cell_type": "code",
   "execution_count": 16,
   "id": "21806f48",
   "metadata": {},
   "outputs": [],
   "source": [
    "#Create the GUI\n",
    "def predict_price():\n",
    "    # Get the input data\n",
    "    input_data = entry.get()\n",
    "    input_data = input_data.split(',')\n",
    "    input_data = [float(x) for x in input_data]\n",
    "    # Scale the input data\n",
    "    scaled_input = scaler.transform(np.array(input_data).reshape(-1, 1))"
   ]
  },
  {
   "cell_type": "code",
   "execution_count": 17,
   "id": "ef37e126",
   "metadata": {},
   "outputs": [
    {
     "ename": "NameError",
     "evalue": "name 'x_input' is not defined",
     "output_type": "error",
     "traceback": [
      "\u001b[1;31m---------------------------------------------------------------------------\u001b[0m",
      "\u001b[1;31mNameError\u001b[0m                                 Traceback (most recent call last)",
      "Input \u001b[1;32mIn [17]\u001b[0m, in \u001b[0;36m<cell line: 2>\u001b[1;34m()\u001b[0m\n\u001b[0;32m      1\u001b[0m \u001b[38;5;66;03m# Get the model's predicted price value\u001b[39;00m\n\u001b[1;32m----> 2\u001b[0m predicted_price \u001b[38;5;241m=\u001b[39m model\u001b[38;5;241m.\u001b[39mpredict(\u001b[43mx_input\u001b[49m)\n\u001b[0;32m      4\u001b[0m \u001b[38;5;66;03m#Inverse transform the predicted price value to get the actual price\u001b[39;00m\n\u001b[0;32m      5\u001b[0m predicted_price \u001b[38;5;241m=\u001b[39m scaler\u001b[38;5;241m.\u001b[39minverse_transform(predicted_price)\n",
      "\u001b[1;31mNameError\u001b[0m: name 'x_input' is not defined"
     ]
    }
   ],
   "source": [
    "# Get the model's predicted price value\n",
    "predicted_price = model.predict(x_input)\n",
    "\n",
    "#Inverse transform the predicted price value to get the actual price\n",
    "predicted_price = scaler.inverse_transform(predicted_price)\n",
    "\n",
    "#Update the output label with the predicted price\n",
    "output_label.config(text=\"Predicted price: $%.2f\" % predicted_price)"
   ]
  },
  {
   "cell_type": "code",
   "execution_count": 18,
   "id": "85775f01",
   "metadata": {},
   "outputs": [
    {
     "data": {
      "text/plain": [
       "''"
      ]
     },
     "execution_count": 18,
     "metadata": {},
     "output_type": "execute_result"
    }
   ],
   "source": [
    "#Create the GUI\n",
    "root = tk.Tk()\n",
    "root.title(\"Stock Price Prediction\")"
   ]
  },
  {
   "cell_type": "code",
   "execution_count": 19,
   "id": "b1337791",
   "metadata": {},
   "outputs": [],
   "source": [
    "#Create the input label and entry\n",
    "input_label = tk.Label(root, text=\"Enter the last 60 days' stock prices separated by commas:\")\n",
    "input_label.pack()\n",
    "\n",
    "entry = tk.Entry(root)\n",
    "entry.pack()"
   ]
  },
  {
   "cell_type": "code",
   "execution_count": 20,
   "id": "a01458f6",
   "metadata": {},
   "outputs": [],
   "source": [
    "#Create the predict button\n",
    "predict_button = tk.Button(root, text=\"Predict\", command=predict_price)\n",
    "predict_button.pack()"
   ]
  },
  {
   "cell_type": "code",
   "execution_count": 21,
   "id": "4a7155a5",
   "metadata": {},
   "outputs": [],
   "source": [
    "#Create the output label\n",
    "output_label = tk.Label(root, text=\"\")\n",
    "output_label.pack()"
   ]
  },
  {
   "cell_type": "code",
   "execution_count": 22,
   "id": "3d94e199",
   "metadata": {},
   "outputs": [
    {
     "name": "stderr",
     "output_type": "stream",
     "text": [
      "Exception in Tkinter callback\n",
      "Traceback (most recent call last):\n",
      "  File \"C:\\Users\\DELL\\anaconda3\\lib\\tkinter\\__init__.py\", line 1892, in __call__\n",
      "    return self.func(*args)\n",
      "  File \"C:\\Users\\DELL\\AppData\\Local\\Temp\\ipykernel_14684\\2073023061.py\", line 6, in predict_price\n",
      "    input_data = [float(x) for x in input_data]\n",
      "  File \"C:\\Users\\DELL\\AppData\\Local\\Temp\\ipykernel_14684\\2073023061.py\", line 6, in <listcomp>\n",
      "    input_data = [float(x) for x in input_data]\n",
      "ValueError: could not convert string to float: ''\n"
     ]
    }
   ],
   "source": [
    "#Run the GUI\n",
    "root.mainloop()"
   ]
  }
 ],
 "metadata": {
  "kernelspec": {
   "display_name": "Python 3 (ipykernel)",
   "language": "python",
   "name": "python3"
  },
  "language_info": {
   "codemirror_mode": {
    "name": "ipython",
    "version": 3
   },
   "file_extension": ".py",
   "mimetype": "text/x-python",
   "name": "python",
   "nbconvert_exporter": "python",
   "pygments_lexer": "ipython3",
   "version": "3.9.12"
  }
 },
 "nbformat": 4,
 "nbformat_minor": 5
}
