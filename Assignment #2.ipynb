{
 "cells": [
  {
   "cell_type": "markdown",
   "id": "d77049cf",
   "metadata": {},
   "source": [
    "# Eman Furrukh 21i-1726 BSDS-U"
   ]
  },
  {
   "cell_type": "markdown",
   "id": "e92451c3",
   "metadata": {},
   "source": [
    "# Fundamentals of Software Engineering"
   ]
  },
  {
   "cell_type": "markdown",
   "id": "746bdfac",
   "metadata": {},
   "source": [
    "# Assignment #2"
   ]
  },
  {
   "cell_type": "markdown",
   "id": "f068cc01",
   "metadata": {},
   "source": [
    "# Q4) b."
   ]
  },
  {
   "cell_type": "markdown",
   "id": "8591d03c",
   "metadata": {},
   "source": [
    " Import necessary libraries and data exploration on given data."
   ]
  },
  {
   "cell_type": "code",
   "execution_count": 1,
   "id": "62a882ce",
   "metadata": {},
   "outputs": [],
   "source": [
    "import numpy as np\n",
    "import pandas as pd\n",
    "import matplotlib.pyplot as plt\n",
    "import seaborn as sns\n",
    "from sklearn.tree import DecisionTreeRegressor\n",
    "from sklearn.model_selection import train_test_split"
   ]
  },
  {
   "cell_type": "code",
   "execution_count": 2,
   "id": "9599f5ba",
   "metadata": {},
   "outputs": [
    {
     "name": "stdout",
     "output_type": "stream",
     "text": [
      "         Date      Open      High       Low     Close  Adj Close      Volume\n",
      "0  1986-03-13  0.088542  0.101563  0.088542  0.097222   0.062549  1031788800\n",
      "1  1986-03-14  0.097222  0.102431  0.097222  0.100694   0.064783   308160000\n",
      "2  1986-03-17  0.100694  0.103299  0.100694  0.102431   0.065899   133171200\n",
      "3  1986-03-18  0.102431  0.103299  0.098958  0.099826   0.064224    67766400\n",
      "4  1986-03-19  0.099826  0.100694  0.097222  0.098090   0.063107    47894400\n"
     ]
    }
   ],
   "source": [
    "sns.set()\n",
    "plt.style.use('fivethirtyeight')\n",
    "\n",
    "data = pd.read_csv(r\"C:\\Users\\DELL\\Downloads\\MSFT (1).csv\")\n",
    "print(data.head())"
   ]
  },
  {
   "cell_type": "code",
   "execution_count": 3,
   "id": "f5adc159",
   "metadata": {},
   "outputs": [
    {
     "data": {
      "text/plain": [
       "(8525, 7)"
      ]
     },
     "execution_count": 3,
     "metadata": {},
     "output_type": "execute_result"
    }
   ],
   "source": [
    "data.shape"
   ]
  },
  {
   "cell_type": "code",
   "execution_count": 4,
   "id": "e5847cc7",
   "metadata": {},
   "outputs": [
    {
     "name": "stdout",
     "output_type": "stream",
     "text": [
      "<class 'pandas.core.frame.DataFrame'>\n",
      "RangeIndex: 8525 entries, 0 to 8524\n",
      "Data columns (total 7 columns):\n",
      " #   Column     Non-Null Count  Dtype  \n",
      "---  ------     --------------  -----  \n",
      " 0   Date       8525 non-null   object \n",
      " 1   Open       8525 non-null   float64\n",
      " 2   High       8525 non-null   float64\n",
      " 3   Low        8525 non-null   float64\n",
      " 4   Close      8525 non-null   float64\n",
      " 5   Adj Close  8525 non-null   float64\n",
      " 6   Volume     8525 non-null   int64  \n",
      "dtypes: float64(5), int64(1), object(1)\n",
      "memory usage: 466.3+ KB\n"
     ]
    }
   ],
   "source": [
    "data.info()"
   ]
  },
  {
   "cell_type": "code",
   "execution_count": 5,
   "id": "aff45380",
   "metadata": {},
   "outputs": [
    {
     "data": {
      "text/html": [
       "<div>\n",
       "<style scoped>\n",
       "    .dataframe tbody tr th:only-of-type {\n",
       "        vertical-align: middle;\n",
       "    }\n",
       "\n",
       "    .dataframe tbody tr th {\n",
       "        vertical-align: top;\n",
       "    }\n",
       "\n",
       "    .dataframe thead th {\n",
       "        text-align: right;\n",
       "    }\n",
       "</style>\n",
       "<table border=\"1\" class=\"dataframe\">\n",
       "  <thead>\n",
       "    <tr style=\"text-align: right;\">\n",
       "      <th></th>\n",
       "      <th>Open</th>\n",
       "      <th>High</th>\n",
       "      <th>Low</th>\n",
       "      <th>Close</th>\n",
       "      <th>Adj Close</th>\n",
       "      <th>Volume</th>\n",
       "    </tr>\n",
       "  </thead>\n",
       "  <tbody>\n",
       "    <tr>\n",
       "      <th>count</th>\n",
       "      <td>8525.000000</td>\n",
       "      <td>8525.000000</td>\n",
       "      <td>8525.000000</td>\n",
       "      <td>8525.000000</td>\n",
       "      <td>8525.000000</td>\n",
       "      <td>8.525000e+03</td>\n",
       "    </tr>\n",
       "    <tr>\n",
       "      <th>mean</th>\n",
       "      <td>28.220247</td>\n",
       "      <td>28.514473</td>\n",
       "      <td>27.918967</td>\n",
       "      <td>28.224480</td>\n",
       "      <td>23.417934</td>\n",
       "      <td>6.045692e+07</td>\n",
       "    </tr>\n",
       "    <tr>\n",
       "      <th>std</th>\n",
       "      <td>28.626752</td>\n",
       "      <td>28.848988</td>\n",
       "      <td>28.370344</td>\n",
       "      <td>28.626571</td>\n",
       "      <td>28.195330</td>\n",
       "      <td>3.891225e+07</td>\n",
       "    </tr>\n",
       "    <tr>\n",
       "      <th>min</th>\n",
       "      <td>0.088542</td>\n",
       "      <td>0.092014</td>\n",
       "      <td>0.088542</td>\n",
       "      <td>0.090278</td>\n",
       "      <td>0.058081</td>\n",
       "      <td>2.304000e+06</td>\n",
       "    </tr>\n",
       "    <tr>\n",
       "      <th>25%</th>\n",
       "      <td>3.414063</td>\n",
       "      <td>3.460938</td>\n",
       "      <td>3.382813</td>\n",
       "      <td>3.414063</td>\n",
       "      <td>2.196463</td>\n",
       "      <td>3.667960e+07</td>\n",
       "    </tr>\n",
       "    <tr>\n",
       "      <th>50%</th>\n",
       "      <td>26.174999</td>\n",
       "      <td>26.500000</td>\n",
       "      <td>25.889999</td>\n",
       "      <td>26.160000</td>\n",
       "      <td>18.441576</td>\n",
       "      <td>5.370240e+07</td>\n",
       "    </tr>\n",
       "    <tr>\n",
       "      <th>75%</th>\n",
       "      <td>34.230000</td>\n",
       "      <td>34.669998</td>\n",
       "      <td>33.750000</td>\n",
       "      <td>34.230000</td>\n",
       "      <td>25.392508</td>\n",
       "      <td>7.412350e+07</td>\n",
       "    </tr>\n",
       "    <tr>\n",
       "      <th>max</th>\n",
       "      <td>159.449997</td>\n",
       "      <td>160.729996</td>\n",
       "      <td>158.330002</td>\n",
       "      <td>160.619995</td>\n",
       "      <td>160.619995</td>\n",
       "      <td>1.031789e+09</td>\n",
       "    </tr>\n",
       "  </tbody>\n",
       "</table>\n",
       "</div>"
      ],
      "text/plain": [
       "              Open         High          Low        Close    Adj Close  \\\n",
       "count  8525.000000  8525.000000  8525.000000  8525.000000  8525.000000   \n",
       "mean     28.220247    28.514473    27.918967    28.224480    23.417934   \n",
       "std      28.626752    28.848988    28.370344    28.626571    28.195330   \n",
       "min       0.088542     0.092014     0.088542     0.090278     0.058081   \n",
       "25%       3.414063     3.460938     3.382813     3.414063     2.196463   \n",
       "50%      26.174999    26.500000    25.889999    26.160000    18.441576   \n",
       "75%      34.230000    34.669998    33.750000    34.230000    25.392508   \n",
       "max     159.449997   160.729996   158.330002   160.619995   160.619995   \n",
       "\n",
       "             Volume  \n",
       "count  8.525000e+03  \n",
       "mean   6.045692e+07  \n",
       "std    3.891225e+07  \n",
       "min    2.304000e+06  \n",
       "25%    3.667960e+07  \n",
       "50%    5.370240e+07  \n",
       "75%    7.412350e+07  \n",
       "max    1.031789e+09  "
      ]
     },
     "execution_count": 5,
     "metadata": {},
     "output_type": "execute_result"
    }
   ],
   "source": [
    "data.describe()"
   ]
  },
  {
   "cell_type": "markdown",
   "id": "ebf126ff",
   "metadata": {},
   "source": [
    "Data Visualization"
   ]
  },
  {
   "cell_type": "code",
   "execution_count": 6,
   "id": "836b5205",
   "metadata": {},
   "outputs": [
    {
     "data": {
      "image/png": "[encoded data removed]",
      "text/plain": [
       "<Figure size 720x288 with 1 Axes>"
      ]
     },
     "metadata": {},
     "output_type": "display_data"
    }
   ],
   "source": [
    "plt.figure(figsize=(10, 4))\n",
    "plt.title(\"Microsoft Stock Prices\")\n",
    "plt.xlabel(\"Date\")\n",
    "plt.ylabel(\"Close\")\n",
    "plt.plot(data[\"Date\"],data[\"Close\"])\n",
    "plt.show()"
   ]
  },
  {
   "cell_type": "code",
   "execution_count": 7,
   "id": "abc8be9b",
   "metadata": {},
   "outputs": [
    {
     "data": {
      "image/png": "[encoded data removed]",
      "text/plain": [
       "<Figure size 432x288 with 1 Axes>"
      ]
     },
     "metadata": {},
     "output_type": "display_data"
    }
   ],
   "source": [
    "plt.plot(data['Date'],\n",
    "\t\tdata['Volume'])\n",
    "plt.show()"
   ]
  },
  {
   "cell_type": "markdown",
   "id": "7e0ac14d",
   "metadata": {},
   "source": [
    "Finding Co-relation between data"
   ]
  },
  {
   "cell_type": "code",
   "execution_count": 9,
   "id": "b2a0b7b2",
   "metadata": {},
   "outputs": [
    {
     "name": "stdout",
     "output_type": "stream",
     "text": [
      "               Open      High       Low     Close  Adj Close    Volume\n",
      "Open       1.000000  0.999921  0.999902  0.999825   0.989637 -0.319446\n",
      "High       0.999921  1.000000  0.999868  0.999908   0.989255 -0.317238\n",
      "Low        0.999902  0.999868  1.000000  0.999920   0.990123 -0.321940\n",
      "Close      0.999825  0.999908  0.999920  1.000000   0.989804 -0.319720\n",
      "Adj Close  0.989637  0.989255  0.990123  0.989804   1.000000 -0.333682\n",
      "Volume    -0.319446 -0.317238 -0.321940 -0.319720  -0.333682  1.000000\n"
     ]
    },
    {
     "data": {
      "image/png": "[encoded data removed]",
      "text/plain": [
       "<Figure size 432x288 with 2 Axes>"
      ]
     },
     "metadata": {},
     "output_type": "display_data"
    }
   ],
   "source": [
    "print(data.corr())\n",
    "sns.heatmap(data.corr())\n",
    "plt.show()"
   ]
  },
  {
   "cell_type": "markdown",
   "id": "38be277c",
   "metadata": {},
   "source": [
    "Splitting Data into train and test data"
   ]
  },
  {
   "cell_type": "code",
   "execution_count": 10,
   "id": "ca06e213",
   "metadata": {},
   "outputs": [],
   "source": [
    "x = data[[\"Open\", \"High\", \"Low\"]]\n",
    "y = data[\"Close\"]\n",
    "x = x.to_numpy()\n",
    "y = y.to_numpy(\n",
    ")\n",
    "y = y.reshape(-1, 1)\n",
    "\n",
    "xtrain, xtest, ytrain, ytest = train_test_split(x, y, test_size=0.2, random_state=42)"
   ]
  },
  {
   "cell_type": "markdown",
   "id": "c8d935bc",
   "metadata": {},
   "source": [
    "Applying machine learning model"
   ]
  },
  {
   "cell_type": "code",
   "execution_count": 11,
   "id": "35b8aae6",
   "metadata": {},
   "outputs": [
    {
     "name": "stdout",
     "output_type": "stream",
     "text": [
      "   Predicted Rate\n",
      "0       55.910000\n",
      "1       16.781250\n",
      "2       36.740002\n",
      "3        1.041667\n",
      "4        0.374132\n"
     ]
    }
   ],
   "source": [
    "model = DecisionTreeRegressor()\n",
    "model.fit(xtrain, ytrain)\n",
    "ypred = model.predict(xtest)\n",
    "data = pd.DataFrame(data={\"Predicted Rate\": ypred})\n",
    "print(data.head())"
   ]
  },
  {
   "cell_type": "code",
   "execution_count": 13,
   "id": "444130e6",
   "metadata": {},
   "outputs": [
    {
     "name": "stdout",
     "output_type": "stream",
     "text": [
      "      Predicted Rate\n",
      "0          55.910000\n",
      "1          16.781250\n",
      "2          36.740002\n",
      "3           1.041667\n",
      "4           0.374132\n",
      "...              ...\n",
      "1700       44.110001\n",
      "1701       43.000000\n",
      "1702       25.100000\n",
      "1703      137.070007\n",
      "1704       63.430000\n",
      "\n",
      "[1705 rows x 1 columns]\n"
     ]
    }
   ],
   "source": [
    "print(data)"
   ]
  }
 ],
 "metadata": {
  "kernelspec": {
   "display_name": "Python 3 (ipykernel)",
   "language": "python",
   "name": "python3"
  },
  "language_info": {
   "codemirror_mode": {
    "name": "ipython",
    "version": 3
   },
   "file_extension": ".py",
   "mimetype": "text/x-python",
   "name": "python",
   "nbconvert_exporter": "python",
   "pygments_lexer": "ipython3",
   "version": "3.9.12"
  }
 },
 "nbformat": 4,
 "nbformat_minor": 5
}
