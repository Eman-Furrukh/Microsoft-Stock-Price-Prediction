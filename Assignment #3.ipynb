{
 "cells": [
  {
   "cell_type": "markdown",
   "id": "a1671619",
   "metadata": {},
   "source": [
    "# Fundamentals of Software Engineering"
   ]
  },
  {
   "cell_type": "markdown",
   "id": "3bbd961d",
   "metadata": {},
   "source": [
    "# Assignment #3"
   ]
  },
  {
   "cell_type": "markdown",
   "id": "4b5f7178",
   "metadata": {},
   "source": [
    "# Eman Furrukh 21i-1726 BSDS-U"
   ]
  },
  {
   "cell_type": "markdown",
   "id": "88a8b83c",
   "metadata": {},
   "source": [
    "# Q4)"
   ]
  },
  {
   "cell_type": "code",
   "execution_count": 1,
   "id": "74f06801",
   "metadata": {},
   "outputs": [],
   "source": [
    "import pandas as pd\n",
    "from sklearn.tree import DecisionTreeRegressor\n",
    "from sklearn.model_selection import train_test_split\n",
    "import tkinter as tk\n",
    "from tkinter import ttk"
   ]
  },
  {
   "cell_type": "code",
   "execution_count": 2,
   "id": "e05cbb03",
   "metadata": {},
   "outputs": [],
   "source": [
    "def predict_stock_price(date):\n",
    "    # Read the historical stock data from the CSV file\n",
    "    hist = pd.read_csv(r\"C:\\Users\\DELL\\Downloads\\MSFT (1).csv\", index_col=\"Date\", parse_dates=True)\n",
    "\n",
    "    # Filter the historical data to include only the date entered by the user and the 30 previous days\n",
    "    end_date = pd.to_datetime(date)\n",
    "    start_date = end_date - pd.DateOffset(days=30)\n",
    "    data = hist.loc[start_date:end_date]\n",
    "\n",
    "    # Prepare the data for training the model\n",
    "    X = data.drop(columns=[\"Close\"])\n",
    "    y = data[\"Close\"]\n",
    "    X_train, X_test, y_train, y_test = train_test_split(X, y, test_size=0.2, random_state=42)\n",
    "\n",
    "    # Train the decision tree regression model\n",
    "    model = DecisionTreeRegressor(random_state=42)\n",
    "    model.fit(X_train, y_train)\n",
    "\n",
    "    # Make the prediction\n",
    "    prediction = model.predict([X_test.iloc[-1]])\n",
    "    return prediction[0]"
   ]
  },
  {
   "cell_type": "code",
   "execution_count": 3,
   "id": "f928b8dc",
   "metadata": {},
   "outputs": [
    {
     "name": "stderr",
     "output_type": "stream",
     "text": [
      "C:\\Users\\DELL\\anaconda3\\lib\\site-packages\\sklearn\\base.py:439: UserWarning: X does not have valid feature names, but DecisionTreeRegressor was fitted with feature names\n",
      "  warnings.warn(\n"
     ]
    }
   ],
   "source": [
    "class StockPriceGUI:\n",
    "    def __init__(self, master):\n",
    "        self.master = master\n",
    "        master.title(\"Microsoft Stock Price Prediction\")\n",
    "\n",
    "        self.label = ttk.Label(master, text=\"Enter the date:\")\n",
    "        self.label.grid(row=0, column=0, padx=10, pady=10)\n",
    "\n",
    "        self.date_entry = ttk.Entry(master)\n",
    "        self.date_entry.grid(row=0, column=1, padx=10, pady=10)\n",
    "\n",
    "        self.predict_button = ttk.Button(master, text=\"Predict\", command=self.predict)\n",
    "        self.predict_button.grid(row=1, column=0, columnspan=2, padx=10, pady=10)\n",
    "\n",
    "        self.result_label = ttk.Label(master, text=\"\")\n",
    "        self.result_label.grid(row=2, column=0, columnspan=2, padx=10, pady=10)\n",
    "\n",
    "    def predict(self):\n",
    "        # Get the date entered by the user\n",
    "        date = self.date_entry.get()\n",
    "\n",
    "        # Call the function to predict the stock price\n",
    "        predicted_price = predict_stock_price(date)\n",
    "\n",
    "        # Update the result label\n",
    "        self.result_label.configure(text=f\"The predicted stock price for {date} is {predicted_price}.\")\n",
    "\n",
    "root = tk.Tk()\n",
    "app = StockPriceGUI(root)\n",
    "root.mainloop()"
   ]
  },
  {
   "cell_type": "code",
   "execution_count": null,
   "id": "9b768e79",
   "metadata": {},
   "outputs": [],
   "source": [
    "import pandas as pd\n",
    "from sklearn.tree import DecisionTreeRegressor\n",
    "from sklearn.model_selection import train_test_split\n",
    "import tkinter as tk\n",
    "from tkinter import ttk\n",
    "\n",
    "def predict_stock_price(date):\n",
    "    # Read the historical stock data from the CSV file\n",
    "    hist = pd.read_csv(r\"C:\\Users\\DELL\\Downloads\\MSFT (1).csv\", index_col=\"Date\", parse_dates=True)\n",
    "\n",
    "    # Filter the historical data to include only the date entered by the user and the 30 previous days\n",
    "    end_date = pd.to_datetime(date)\n",
    "    start_date = end_date - pd.DateOffset(days=30)\n",
    "    data = hist.loc[start_date:end_date]\n",
    "\n",
    "    # Prepare the data for training the model\n",
    "    X = data.drop(columns=[\"Close\"])\n",
    "    y = data[\"Close\"]\n",
    "    X_train, X_test, y_train, y_test = train_test_split(X, y, test_size=0.2, random_state=42)\n",
    "\n",
    "    # Train the decision tree regression model\n",
    "    model = DecisionTreeRegressor(random_state=42)\n",
    "    model.fit(X_train, y_train)\n",
    "\n",
    "    # Make the prediction\n",
    "    prediction = model.predict([X_test.iloc[-1]])\n",
    "    return prediction[0]\n",
    "\n",
    "class StockPriceGUI:\n",
    "    def __init__(self, master):\n",
    "        self.master = master\n",
    "        master.title(\"Microsoft Stock Price Prediction\")\n",
    "\n",
    "        self.label = ttk.Label(master, text=\"Enter the date:\")\n",
    "        self.label.grid(row=0, column=0, padx=10, pady=10)\n",
    "\n",
    "        self.date_entry = ttk.Entry(master)\n",
    "        self.date_entry.grid(row=0, column=1, padx=10, pady=10)\n",
    "\n",
    "        self.predict_button = ttk.Button(master, text=\"Predict\", command=self.predict)\n",
    "        self.predict_button.grid(row=1, column=0, columnspan=2, padx=10, pady=10)\n",
    "\n",
    "        self.result_label = ttk.Label(master, text=\"\")\n",
    "        self.result_label.grid(row=2, column=0, columnspan=2, padx=10, pady=10)\n",
    "\n",
    "    def predict(self):\n",
    "        # Get the date entered by the user\n",
    "        date = self.date_entry.get()\n",
    "\n",
    "        # Call the function to predict the stock price\n",
    "        predicted_price = predict_stock_price(date)\n",
    "\n",
    "        # Update the result label\n",
    "        self.result_label.configure(text=f\"The predicted stock price for {date} is {predicted_price}.\")\n",
    "\n",
    "root = tk.Tk()\n",
    "app = StockPriceGUI(root)\n",
    "root.mainloop()"
   ]
  }
 ],
 "metadata": {
  "kernelspec": {
   "display_name": "Python 3 (ipykernel)",
   "language": "python",
   "name": "python3"
  },
  "language_info": {
   "codemirror_mode": {
    "name": "ipython",
    "version": 3
   },
   "file_extension": ".py",
   "mimetype": "text/x-python",
   "name": "python",
   "nbconvert_exporter": "python",
   "pygments_lexer": "ipython3",
   "version": "3.9.12"
  }
 },
 "nbformat": 4,
 "nbformat_minor": 5
}
